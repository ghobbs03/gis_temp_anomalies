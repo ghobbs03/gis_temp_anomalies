{
 "cells": [
  {
   "cell_type": "code",
   "execution_count": 1,
   "metadata": {
    "collapsed": false
   },
   "outputs": [
   ],
   "source": [
    "def string_comp(k, Text):\n",
    "    '''\n",
    "    Generates kmer composition of a string Text.\n",
    "    Input: integer k for kmer length, and a sequence string\n",
    "    Text.\n",
    "    Output: Composition of kmers.\n",
    "    '''\n",
    "    comp = []\n",
    "    for i in range(len(Text) - k+1):\n",
    "        comp.append(Text[i:i+k])\n",
    "    return comp"
   ]
  },
  {
   "cell_type": "code",
   "execution_count": 1,
   "metadata": {
    "collapsed": false
   },
   "outputs": [
   ],
   "source": [
    "def string_spelled_by_a_genome_path(patterns):\n",
    "    '''\n",
    "    Reconstruct string from genome path.\n",
    "    Input: A sequence of kmers Pattern1, … ,Patternn such\n",
    "    that the last k-1 symbols of Patterni are equal to the\n",
    "    first k-1 symbols of Patterni+1 for 1 ≤ i ≤ n-1.\n",
    "    Output: A string Text of length k+n-1 such that the i-th     kmer in Text is equal to Patterni  (for 1 ≤ i ≤ n).\n",
    "    '''\n",
    "    return patterns[0] + ''.join([pattern[-1] for pattern in patterns[1:]])"
   ]
  },
  {
   "cell_type": "code",
   "execution_count": 7,
   "metadata": {
    "collapsed": false
   },
   "outputs": [
   ],
   "source": [
    "from collections import defaultdict"
   ]
  },
  {
   "cell_type": "code",
   "execution_count": 1,
   "metadata": {
    "collapsed": false
   },
   "outputs": [
   ],
   "source": [
    "def construct_overlap_graph(sequences_file):\n",
    "    '''\n",
    "    Input: File with a collection of patterns of kmers\n",
    "    Output: Overlap graph as adjacency list\n",
    "    '''\n",
    "    file = open(sequences_file, 'r')\n",
    "    data = file.read().splitlines()\n",
    "    patterns = []\n",
    "\n",
    "    for line in data:\n",
    "        patterns.append(line)\n",
    "\n",
    "    adjacency_list = defaultdict(set)\n",
    "    for pattern in patterns:\n",
    "        adjacency_list[pattern[:-1]].add(pattern)\n",
    "    for pattern in patterns:\n",
    "        suffixes = adjacency_list[pattern[1:]]\n",
    "        if suffixes:\n",
    "            print(pattern + \" -> \" + \",\".join(suffixes))"
   ]
  },
  {
   "cell_type": "code",
   "execution_count": 2,
   "metadata": {
    "collapsed": false
   },
   "outputs": [
   ],
   "source": [
    "def construct_deBruijn(file_info):\n",
    "    '''\n",
    "    Input: File contains an integer k and a genome sequence\n",
    "    to break down into overlapping kmers\n",
    "    This constructs a deBruijn graph, where all kmers are\n",
    "    the edges, and overlapping patterns determine path of\n",
    "    nodes, and all kmers are the edges.\n",
    "    Output: deBruijn graph in form of adjacency list\n",
    "    '''\n",
    "    file = open(file_info, 'r')\n",
    "    data = file.read().splitlines()\n",
    "    k = int(data[0])\n",
    "    text = ''.join(map(str,data[1:]))\n",
    "    edges = [text[i:i+k] for i in range(len(text)-k+1)]\n",
    "    adjacency_list = defaultdict(list)\n",
    "    for edge in edges:\n",
    "        adjacency_list[edge[:-1]].append(edge[1:])\n",
    "    final = []\n",
    "    for edge in edges:\n",
    "        suffixes = adjacency_list[edge[:-1]]\n",
    "        if suffixes:\n",
    "            final.append(edge[:-1] + \" -> \" + \",\".join(suffixes))\n",
    "    for f in set(final):\n",
    "        print(f)"
   ]
  },
  {
   "cell_type": "code",
   "execution_count": 10,
   "metadata": {
    "collapsed": false
   },
   "outputs": [
   ],
   "source": [
    "def construct_deBruijn_from_kmers(file_info):\n",
    "    '''\n",
    "    Input: File contains a list of kmer patterns\n",
    "    to break down into overlapping kmers\n",
    "    This constructs a deBruijn graph, where all\n",
    "    kmers are the edges, and overlapping patterns\n",
    "    determine path of nodes, and all kmers are\n",
    "    the edges.\n",
    "    Output: deBruijn graph in form of adjacency list\n",
    "    '''\n",
    "    file = open(file_info, 'r')\n",
    "    edges = file.read().splitlines()\n",
    "    adjacency_list = defaultdict(list)\n",
    "    for edge in edges:\n",
    "        adjacency_list[edge[:-1]].append(edge[1:])\n",
    "    final = []\n",
    "    for edge in edges:\n",
    "        suffixes = adjacency_list[edge[:-1]]\n",
    "        if suffixes:\n",
    "            final.append(edge[:-1] + \" -> \" + \",\".join(suffixes))\n",
    "    for f in set(final):\n",
    "        print(f)"
   ]
  }
 ],
 "metadata": {
  "kernelspec": {
   "display_name": "Python 3 (system-wide)",
   "language": "python",
   "metadata": {
    "cocalc": {
     "description": "Python 3 programming language",
     "priority": 100,
     "url": "https://www.python.org/"
    }
   },
   "name": "python3",
   "resource_dir": "/ext/jupyter/kernels/python3"
  },
  "language_info": {
   "codemirror_mode": {
    "name": "ipython",
    "version": 3
   },
   "file_extension": ".py",
   "mimetype": "text/x-python",
   "name": "python",
   "nbconvert_exporter": "python",
   "pygments_lexer": "ipython3",
   "version": "3.6.9"
  }
 },
 "nbformat": 4,
 "nbformat_minor": 4
}